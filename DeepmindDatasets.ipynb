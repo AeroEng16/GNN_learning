{
  "nbformat": 4,
  "nbformat_minor": 0,
  "metadata": {
    "accelerator": "GPU",
    "colab": {
      "provenance": [],
      "machine_shape": "hm",
      "include_colab_link": true
    },
    "kernelspec": {
      "display_name": "Python 3",
      "language": "python",
      "name": "python3"
    },
    "language_info": {
      "codemirror_mode": {
        "name": "ipython",
        "version": 3
      },
      "file_extension": ".py",
      "mimetype": "text/x-python",
      "name": "python",
      "nbconvert_exporter": "python",
      "pygments_lexer": "ipython3",
      "version": "3.7.3"
    }
  },
  "cells": [
    {
      "cell_type": "markdown",
      "metadata": {
        "id": "view-in-github",
        "colab_type": "text"
      },
      "source": [
        "<a href=\"https://colab.research.google.com/github/AeroEng16/GNN_learning/blob/main/DeepmindDatasets.ipynb\" target=\"_parent\"><img src=\"https://colab.research.google.com/assets/colab-badge.svg\" alt=\"Open In Colab\"/></a>"
      ]
    },
    {
      "cell_type": "markdown",
      "metadata": {
        "id": "XuXWJLEm2UWS"
      },
      "source": [
        "**Trying Deepmind Research Data**"
      ]
    },
    {
      "cell_type": "code",
      "source": [
        "!git clone https://github.com/google-deepmind/deepmind-research\n"
      ],
      "metadata": {
        "id": "UxmA-_TuepKo",
        "outputId": "1d99deaa-1707-4596-a9f9-097ec9c3d3c1",
        "colab": {
          "base_uri": "https://localhost:8080/"
        }
      },
      "execution_count": 1,
      "outputs": [
        {
          "output_type": "stream",
          "name": "stdout",
          "text": [
            "Cloning into 'deepmind-research'...\n",
            "remote: Enumerating objects: 3046, done.\u001b[K\n",
            "remote: Counting objects: 100% (201/201), done.\u001b[K\n",
            "remote: Compressing objects: 100% (168/168), done.\u001b[K\n",
            "remote: Total 3046 (delta 140), reused 33 (delta 33), pack-reused 2845 (from 4)\u001b[K\n",
            "Receiving objects: 100% (3046/3046), 92.07 MiB | 28.14 MiB/s, done.\n",
            "Resolving deltas: 100% (1568/1568), done.\n",
            "\u001b[31mERROR: Could not open requirements file: [Errno 2] No such file or directory: 'meshgraphnets/requirements.txt'\u001b[0m\u001b[31m\n",
            "\u001b[0m"
          ]
        }
      ]
    },
    {
      "cell_type": "code",
      "source": [
        "!pip install -r deepmind-research/meshgraphnets/requirements.txt"
      ],
      "metadata": {
        "id": "SZfjO46jgxhB",
        "outputId": "ae52dc4a-174a-4205-b6b8-0b208a70460f",
        "colab": {
          "base_uri": "https://localhost:8080/"
        }
      },
      "execution_count": 2,
      "outputs": [
        {
          "output_type": "stream",
          "name": "stdout",
          "text": [
            "\u001b[31mERROR: Could not find a version that satisfies the requirement tensorflow-gpu<2,>=1.15 (from versions: 2.12.0)\u001b[0m\u001b[31m\n",
            "\u001b[0m\u001b[31mERROR: No matching distribution found for tensorflow-gpu<2,>=1.15\u001b[0m\u001b[31m\n",
            "\u001b[0m"
          ]
        }
      ]
    },
    {
      "cell_type": "code",
      "source": [
        "!mkdir -p ${DATA}\n",
        "!bash deepmind-research/meshgraphnets/download_dataset.sh cylinder_flow ${DATA}"
      ],
      "metadata": {
        "id": "1-zInXFRgUe_",
        "outputId": "ca577a8b-c691-4fcf-f94f-2008ca3b3428",
        "colab": {
          "base_uri": "https://localhost:8080/"
        }
      },
      "execution_count": 6,
      "outputs": [
        {
          "output_type": "stream",
          "name": "stdout",
          "text": [
            "mkdir: missing operand\n",
            "Try 'mkdir --help' for more information.\n",
            "--2025-07-25 12:16:49--  https://storage.googleapis.com/dm-meshgraphnets/cylinder_flow/meta.json\n",
            "Resolving storage.googleapis.com (storage.googleapis.com)... 173.194.217.207, 172.217.204.207, 172.217.203.207, ...\n",
            "Connecting to storage.googleapis.com (storage.googleapis.com)|173.194.217.207|:443... connected.\n",
            "HTTP request sent, awaiting response... 200 OK\n",
            "Length: 883 [application/octet-stream]\n",
            "Saving to: ‘/cylinder_flow/meta.json’\n",
            "\n",
            "/cylinder_flow/meta 100%[===================>]     883  --.-KB/s    in 0s      \n",
            "\n",
            "2025-07-25 12:16:50 (16.1 MB/s) - ‘/cylinder_flow/meta.json’ saved [883/883]\n",
            "\n",
            "--2025-07-25 12:16:50--  https://storage.googleapis.com/dm-meshgraphnets/cylinder_flow/train.tfrecord\n",
            "Resolving storage.googleapis.com (storage.googleapis.com)... 173.194.217.207, 172.217.204.207, 172.217.203.207, ...\n",
            "Connecting to storage.googleapis.com (storage.googleapis.com)|173.194.217.207|:443... connected.\n",
            "HTTP request sent, awaiting response... 200 OK\n",
            "Length: 13645805387 (13G) [application/octet-stream]\n",
            "Saving to: ‘/cylinder_flow/train.tfrecord’\n",
            "\n",
            "/cylinder_flow/trai 100%[===================>]  12.71G   146MB/s    in 2m 44s  \n",
            "\n",
            "2025-07-25 12:19:34 (79.3 MB/s) - ‘/cylinder_flow/train.tfrecord’ saved [13645805387/13645805387]\n",
            "\n",
            "--2025-07-25 12:19:34--  https://storage.googleapis.com/dm-meshgraphnets/cylinder_flow/valid.tfrecord\n",
            "Resolving storage.googleapis.com (storage.googleapis.com)... 173.194.217.207, 172.217.204.207, 172.217.203.207, ...\n",
            "Connecting to storage.googleapis.com (storage.googleapis.com)|173.194.217.207|:443... connected.\n",
            "HTTP request sent, awaiting response... 200 OK\n",
            "Length: 1363987289 (1.3G) [application/octet-stream]\n",
            "Saving to: ‘/cylinder_flow/valid.tfrecord’\n",
            "\n",
            "/cylinder_flow/vali 100%[===================>]   1.27G  96.2MB/s    in 19s     \n",
            "\n",
            "2025-07-25 12:19:54 (66.8 MB/s) - ‘/cylinder_flow/valid.tfrecord’ saved [1363987289/1363987289]\n",
            "\n",
            "--2025-07-25 12:19:54--  https://storage.googleapis.com/dm-meshgraphnets/cylinder_flow/test.tfrecord\n",
            "Resolving storage.googleapis.com (storage.googleapis.com)... 173.194.217.207, 172.217.204.207, 172.217.203.207, ...\n",
            "Connecting to storage.googleapis.com (storage.googleapis.com)|173.194.217.207|:443... connected.\n",
            "HTTP request sent, awaiting response... 200 OK\n",
            "Length: 1355376404 (1.3G) [application/octet-stream]\n",
            "Saving to: ‘/cylinder_flow/test.tfrecord’\n",
            "\n",
            "/cylinder_flow/test 100%[===================>]   1.26G  29.8MB/s    in 15s     \n",
            "\n",
            "2025-07-25 12:20:09 (84.7 MB/s) - ‘/cylinder_flow/test.tfrecord’ saved [1355376404/1355376404]\n",
            "\n"
          ]
        }
      ]
    },
    {
      "cell_type": "code",
      "source": [
        "!python deepmind.research"
      ],
      "metadata": {
        "id": "W5fVFcP4iYc7"
      },
      "execution_count": null,
      "outputs": []
    }
  ]
}